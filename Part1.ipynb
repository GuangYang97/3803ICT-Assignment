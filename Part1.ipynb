{
 "cells": [
  {
   "cell_type": "markdown",
   "metadata": {},
   "source": [
    "# Part 1 – Data Preparation and Preprocessing"
   ]
  },
  {
   "cell_type": "markdown",
   "metadata": {},
   "source": [
    "### Imports"
   ]
  },
  {
   "cell_type": "code",
   "execution_count": 15,
   "metadata": {},
   "outputs": [],
   "source": [
    "# Imports\n",
    "import string\n",
    "import numpy as np\n",
    "import pandas as pd\n",
    "import seaborn as sns\n",
    "from matplotlib import cm\n",
    "import matplotlib.pyplot as plt\n",
    "import IPython.display "
   ]
  },
  {
   "cell_type": "markdown",
   "metadata": {},
   "source": [
    "### Loading dataset"
   ]
  },
  {
   "cell_type": "code",
   "execution_count": 16,
   "metadata": {},
   "outputs": [
    {
     "name": "stdout",
     "output_type": "stream",
     "text": [
      "The Dataset consists of: 318477 rows and 13 columns\n"
     ]
    },
    {
     "name": "stderr",
     "output_type": "stream",
     "text": [
      "C:\\Users\\Guang\\AppData\\Local\\Temp\\ipykernel_9440\\737856287.py:2: DtypeWarning: Columns (0,4,5,6,7) have mixed types. Specify dtype option on import or set low_memory=False.\n",
      "  df = pd.read_csv(\"data.csv\")\n"
     ]
    },
    {
     "data": {
      "text/html": [
       "<div>\n",
       "<style scoped>\n",
       "    .dataframe tbody tr th:only-of-type {\n",
       "        vertical-align: middle;\n",
       "    }\n",
       "\n",
       "    .dataframe tbody tr th {\n",
       "        vertical-align: top;\n",
       "    }\n",
       "\n",
       "    .dataframe thead th {\n",
       "        text-align: right;\n",
       "    }\n",
       "</style>\n",
       "<table border=\"1\" class=\"dataframe\">\n",
       "  <thead>\n",
       "    <tr style=\"text-align: right;\">\n",
       "      <th></th>\n",
       "      <th>Id</th>\n",
       "      <th>Title</th>\n",
       "      <th>Company</th>\n",
       "      <th>Date</th>\n",
       "      <th>Location</th>\n",
       "      <th>Area</th>\n",
       "      <th>Classification</th>\n",
       "      <th>SubClassification</th>\n",
       "      <th>Requirement</th>\n",
       "      <th>FullDescription</th>\n",
       "      <th>LowestSalary</th>\n",
       "      <th>HighestSalary</th>\n",
       "      <th>JobType</th>\n",
       "    </tr>\n",
       "  </thead>\n",
       "  <tbody>\n",
       "    <tr>\n",
       "      <th>0</th>\n",
       "      <td>37404348</td>\n",
       "      <td>Casual Stock Replenisher</td>\n",
       "      <td>Aldi Stores</td>\n",
       "      <td>2018-10-07T00:00:00.000Z</td>\n",
       "      <td>Sydney</td>\n",
       "      <td>North West &amp; Hills District</td>\n",
       "      <td>Retail &amp; Consumer Products</td>\n",
       "      <td>Retail Assistants</td>\n",
       "      <td>Our Casual Stock Replenishers pride themselves...</td>\n",
       "      <td>NaN</td>\n",
       "      <td>0</td>\n",
       "      <td>30</td>\n",
       "      <td>NaN</td>\n",
       "    </tr>\n",
       "    <tr>\n",
       "      <th>1</th>\n",
       "      <td>37404337</td>\n",
       "      <td>Casual Stock Replenisher</td>\n",
       "      <td>Aldi Stores</td>\n",
       "      <td>2018-10-07T00:00:00.000Z</td>\n",
       "      <td>Richmond &amp; Hawkesbury</td>\n",
       "      <td>NaN</td>\n",
       "      <td>Retail &amp; Consumer Products</td>\n",
       "      <td>Retail Assistants</td>\n",
       "      <td>Our Casual Stock Replenishers pride themselves...</td>\n",
       "      <td>NaN</td>\n",
       "      <td>0</td>\n",
       "      <td>30</td>\n",
       "      <td>NaN</td>\n",
       "    </tr>\n",
       "    <tr>\n",
       "      <th>2</th>\n",
       "      <td>37404356</td>\n",
       "      <td>RETAIL SALES SUPERSTARS and STYLISTS Wanted - ...</td>\n",
       "      <td>LB Creative Pty Ltd</td>\n",
       "      <td>2018-10-07T00:00:00.000Z</td>\n",
       "      <td>Brisbane</td>\n",
       "      <td>CBD &amp; Inner Suburbs</td>\n",
       "      <td>Retail &amp; Consumer Products</td>\n",
       "      <td>Retail Assistants</td>\n",
       "      <td>BRAND NEW FLAGSHIP STORE OPENING - SUNSHINE PLAZA</td>\n",
       "      <td>NaN</td>\n",
       "      <td>0</td>\n",
       "      <td>30</td>\n",
       "      <td>NaN</td>\n",
       "    </tr>\n",
       "    <tr>\n",
       "      <th>3</th>\n",
       "      <td>37404330</td>\n",
       "      <td>Team member - Belrose</td>\n",
       "      <td>Anaconda Group Pty Ltd</td>\n",
       "      <td>2018-10-07T00:00:00.000Z</td>\n",
       "      <td>Gosford &amp; Central Coast</td>\n",
       "      <td>NaN</td>\n",
       "      <td>Retail &amp; Consumer Products</td>\n",
       "      <td>Retail Assistants</td>\n",
       "      <td>Bring it on - do you love the great outdoors a...</td>\n",
       "      <td>NaN</td>\n",
       "      <td>0</td>\n",
       "      <td>30</td>\n",
       "      <td>NaN</td>\n",
       "    </tr>\n",
       "    <tr>\n",
       "      <th>4</th>\n",
       "      <td>37404308</td>\n",
       "      <td>Business Banking Contact Centre Specialist, Ni...</td>\n",
       "      <td>Commonwealth Bank - Business &amp; Private Banking</td>\n",
       "      <td>2018-10-07T00:00:00.000Z</td>\n",
       "      <td>Sydney</td>\n",
       "      <td>Ryde &amp; Macquarie Park</td>\n",
       "      <td>Call Centre &amp; Customer Service</td>\n",
       "      <td>Sales - Inbound</td>\n",
       "      <td>We are seeking highly articulate, enthusiastic...</td>\n",
       "      <td>NaN</td>\n",
       "      <td>0</td>\n",
       "      <td>30</td>\n",
       "      <td>NaN</td>\n",
       "    </tr>\n",
       "  </tbody>\n",
       "</table>\n",
       "</div>"
      ],
      "text/plain": [
       "         Id                                              Title   \n",
       "0  37404348                           Casual Stock Replenisher  \\\n",
       "1  37404337                           Casual Stock Replenisher   \n",
       "2  37404356  RETAIL SALES SUPERSTARS and STYLISTS Wanted - ...   \n",
       "3  37404330                              Team member - Belrose   \n",
       "4  37404308  Business Banking Contact Centre Specialist, Ni...   \n",
       "\n",
       "                                          Company                      Date   \n",
       "0                                     Aldi Stores  2018-10-07T00:00:00.000Z  \\\n",
       "1                                     Aldi Stores  2018-10-07T00:00:00.000Z   \n",
       "2                             LB Creative Pty Ltd  2018-10-07T00:00:00.000Z   \n",
       "3                          Anaconda Group Pty Ltd  2018-10-07T00:00:00.000Z   \n",
       "4  Commonwealth Bank - Business & Private Banking  2018-10-07T00:00:00.000Z   \n",
       "\n",
       "                  Location                         Area   \n",
       "0                   Sydney  North West & Hills District  \\\n",
       "1    Richmond & Hawkesbury                          NaN   \n",
       "2                 Brisbane          CBD & Inner Suburbs   \n",
       "3  Gosford & Central Coast                          NaN   \n",
       "4                   Sydney        Ryde & Macquarie Park   \n",
       "\n",
       "                   Classification  SubClassification   \n",
       "0      Retail & Consumer Products  Retail Assistants  \\\n",
       "1      Retail & Consumer Products  Retail Assistants   \n",
       "2      Retail & Consumer Products  Retail Assistants   \n",
       "3      Retail & Consumer Products  Retail Assistants   \n",
       "4  Call Centre & Customer Service    Sales - Inbound   \n",
       "\n",
       "                                         Requirement FullDescription   \n",
       "0  Our Casual Stock Replenishers pride themselves...             NaN  \\\n",
       "1  Our Casual Stock Replenishers pride themselves...             NaN   \n",
       "2  BRAND NEW FLAGSHIP STORE OPENING - SUNSHINE PLAZA             NaN   \n",
       "3  Bring it on - do you love the great outdoors a...             NaN   \n",
       "4  We are seeking highly articulate, enthusiastic...             NaN   \n",
       "\n",
       "   LowestSalary  HighestSalary JobType  \n",
       "0             0             30     NaN  \n",
       "1             0             30     NaN  \n",
       "2             0             30     NaN  \n",
       "3             0             30     NaN  \n",
       "4             0             30     NaN  "
      ]
     },
     "execution_count": 16,
     "metadata": {},
     "output_type": "execute_result"
    }
   ],
   "source": [
    "# Load the data using Pandas\n",
    "df = pd.read_csv(\"data.csv\")\n",
    "print(\"The Dataset consists of: {} rows and {} columns\".format(len(df), len(df.columns)))\n",
    "\n",
    "# Visualize the top 5 first rows\n",
    "df.head()"
   ]
  },
  {
   "cell_type": "markdown",
   "metadata": {},
   "source": [
    "### Cleaning with dataset"
   ]
  },
  {
   "cell_type": "code",
   "execution_count": 17,
   "metadata": {},
   "outputs": [
    {
     "name": "stdout",
     "output_type": "stream",
     "text": [
      "Id                            int64\n",
      "Title                        object\n",
      "Company                      object\n",
      "Date                 datetime64[ns]\n",
      "Location                     object\n",
      "Area                         object\n",
      "Classification               object\n",
      "SubClassification            object\n",
      "Requirement                  object\n",
      "FullDescription              object\n",
      "LowestSalary                  int64\n",
      "HighestSalary                 int64\n",
      "JobType                      object\n",
      "AverageSalary               float64\n",
      "dtype: object\n"
     ]
    }
   ],
   "source": [
    "# Clean the Id column\n",
    "df[\"Id\"] = df[\"Id\"].replace(to_replace = r\"&.*\", value = \"\", regex = True)\n",
    "# Set column \"Id\" to type int64\n",
    "df[\"Id\"] = df[\"Id\"].astype('int64')\n",
    "\n",
    "# Clean the date column\n",
    "df[\"Date\"] = df[\"Date\"].replace(to_replace = r\"T.*\", value = \"\", regex = True)\n",
    "# Set column \"Date\" to type datetime64[ns]\n",
    "df[\"Date\"] = pd.to_datetime(df[\"Date\"])\n",
    "\n",
    "# Calculate the average salary\n",
    "df = df.assign(AverageSalary = lambda row : (row.LowestSalary + row.HighestSalary) / 2)\n",
    "\n",
    "# Data types after data cleaning and conversions\n",
    "print(df.dtypes)"
   ]
  },
  {
   "cell_type": "markdown",
   "metadata": {},
   "source": [
    "An additional attribute **AverageSalary** has been creating to aid in exploring relationships between different attributes. This was found by calculating the mean between the **LowestSalary** and **HighestSalary**."
   ]
  },
  {
   "cell_type": "markdown",
   "metadata": {},
   "source": [
    "### Checking for duplicates"
   ]
  },
  {
   "cell_type": "code",
   "execution_count": 18,
   "metadata": {},
   "outputs": [
    {
     "name": "stdout",
     "output_type": "stream",
     "text": [
      "Duplicates found: 108\n",
      "Duplicates found without regard to timestamp:  43\n"
     ]
    }
   ],
   "source": [
    "# Finding how many duplicates\n",
    "duplicate_count = df[df.duplicated()].shape[0]\n",
    "print(\"Duplicates found:\", duplicate_count)\n",
    "\n",
    "# Finding how many duplicates there are without \"Date\" attribute \n",
    "no_timestamp = df.drop(\"Date\", axis=1)\n",
    "duplicate_count_no_timestamp = no_timestamp[no_timestamp.duplicated()].shape[0]\n",
    "diff = duplicate_count_no_timestamp - duplicate_count\n",
    "print('Duplicates found without regard to timestamp: ', diff)"
   ]
  },
  {
   "cell_type": "markdown",
   "metadata": {},
   "source": [
    "### Removing duplicates"
   ]
  },
  {
   "cell_type": "code",
   "execution_count": 19,
   "metadata": {},
   "outputs": [
    {
     "name": "stdout",
     "output_type": "stream",
     "text": [
      "Duplicates found: 0\n"
     ]
    }
   ],
   "source": [
    "# Dropping duplicates\n",
    "df = df.drop_duplicates()\n",
    "duplicate_count = df[df.duplicated()].shape[0]\n",
    "print(\"Duplicates found:\", duplicate_count)"
   ]
  },
  {
   "cell_type": "markdown",
   "metadata": {},
   "source": [
    "### Checking for missing data"
   ]
  },
  {
   "cell_type": "code",
   "execution_count": 20,
   "metadata": {},
   "outputs": [
    {
     "name": "stdout",
     "output_type": "stream",
     "text": [
      "Attributes with null data: \n",
      "\tCompany: 3.77%\n",
      "\tLocation: 38.08%\n",
      "\tArea: 61.50%\n",
      "\tClassification: 38.08%\n",
      "\tSubClassification: 38.08%\n",
      "\tRequirement: 0.00%\n",
      "\tFullDescription: 5.07%\n",
      "\tJobType: 5.04%\n"
     ]
    }
   ],
   "source": [
    "null_data = df.isnull().sum()\n",
    "total_rows = df.shape[0]\n",
    "\n",
    "print(\"Attributes with null data: \")\n",
    "for i in range(len(null_data)):\n",
    "    if(null_data[i] > 0):\n",
    "        print(\"\\t{0}: {1:.2f}%\".format(df.columns.values[i], (null_data[i] / total_rows) * 100))"
   ]
  },
  {
   "cell_type": "markdown",
   "metadata": {},
   "source": [
    "The **Area** attribute has the highest missing data at **61.50%** It is suspected that only job listings with a **Location** based in a larger city use the **Area** attribute to be more specific regarding the location of the job. \n",
    "\n",
    "The **Location**, **Classification** and **SubClassification** attribute all share the same amount of missing data of **38.08%**, there is most likely some relationship between these attributes that has caused this, it is unlikely that this is a coincidence."
   ]
  },
  {
   "cell_type": "markdown",
   "metadata": {},
   "source": [
    "### Investigating missing \"Area\" attribute data"
   ]
  },
  {
   "cell_type": "code",
   "execution_count": 21,
   "metadata": {},
   "outputs": [
    {
     "name": "stdout",
     "output_type": "stream",
     "text": [
      "['Sydney' 'Brisbane' 'Melbourne' 'Perth']\n"
     ]
    }
   ],
   "source": [
    "# Creating a new dataframe\n",
    "df_area = df[(df[\"Area\"].isna() == False) & \n",
    "             (df[\"Location\"].isna() == False)]\n",
    "\n",
    "# Printing all unique locations\n",
    "print(df_area[\"Location\"].unique())"
   ]
  },
  {
   "cell_type": "markdown",
   "metadata": {},
   "source": [
    "We've created a new dataset excluding all entries where the **Area** and **Location** data is missing, then printing all unique **Location**'s. This information backs our suspicion that the **Area** attribute is only used when the **Location** is a large city and more context is needed. Job listings that are missing the **Area** attribute will not be removed from the dataset."
   ]
  },
  {
   "cell_type": "markdown",
   "metadata": {},
   "source": [
    "### Investigating missing \"Classification\", \"SubClassification\" and \"Location\" attribute data"
   ]
  },
  {
   "cell_type": "code",
   "execution_count": 22,
   "metadata": {},
   "outputs": [
    {
     "name": "stdout",
     "output_type": "stream",
     "text": [
      "Start of the missing data: 2018-12-16 00:00:00\n",
      "End of the missing data: 2019-03-13 00:00:00\n",
      "Job listings between the above dates that weren't missing all three attributes: 0\n"
     ]
    }
   ],
   "source": [
    "# Creating a new dataframe\n",
    "df_null_data = df[(df[\"Classification\"].isna() == True) & \n",
    "                  (df[\"SubClassification\"].isna() == True) & \n",
    "                  (df[\"Location\"].isna() == True)]\n",
    "\n",
    "# Sorting data by date\n",
    "null_data_dates = df_null_data.sort_values(\"Date\")[\"Date\"].dropna().unique()\n",
    "\n",
    "# Grabbing the first date\n",
    "null_data_start = null_data_dates[0]\n",
    "print(\"Start of the missing data:\", null_data_start)\n",
    "# Grabbing the last date\n",
    "null_data_end = null_data_dates[len(null_data_dates)-1]\n",
    "print(\"End of the missing data:\", null_data_end)\n",
    "\n",
    "# Checking all job listings between the start and end date\n",
    "date_range = (df['Date'] > null_data_start) & (df['Date'] <= null_data_end)\n",
    "temp_df = df.loc[date_range]\n",
    "null_listings = temp_df[(temp_df['Classification'].isna() == False) |\n",
    "                        (temp_df['SubClassification'].isna() == False) | \n",
    "                        (temp_df['Location'].isna() == False)]\n",
    "print(\"Job listings between the above dates that weren't missing all three attributes:\", len(null_listings))"
   ]
  },
  {
   "cell_type": "markdown",
   "metadata": {},
   "source": [
    "### Checking for missing attribute data outside the date range"
   ]
  },
  {
   "cell_type": "code",
   "execution_count": 23,
   "metadata": {},
   "outputs": [
    {
     "name": "stdout",
     "output_type": "stream",
     "text": [
      "Location             0.0\n",
      "Classification       0.0\n",
      "SubClassification    0.0\n",
      "dtype: float64\n"
     ]
    }
   ],
   "source": [
    "df_excluded = df[(df[\"Date\"] < null_data_start) & (df[\"Date\"] > null_data_end)]\n",
    "print(df_excluded[[\"Location\", \"Classification\", \"SubClassification\"]].isnull().sum())"
   ]
  },
  {
   "cell_type": "markdown",
   "metadata": {},
   "source": [
    "The above shows that there is no missing **Classification**, **SubClassification** and **Location** attribute data outside the date range. "
   ]
  },
  {
   "cell_type": "markdown",
   "metadata": {},
   "source": [
    "### Examples of Job Listings with missing \"Classification\", \"SubClassification\" and \"Location\" attribute data"
   ]
  },
  {
   "cell_type": "code",
   "execution_count": 24,
   "metadata": {},
   "outputs": [
    {
     "data": {
      "text/html": [
       "<div>\n",
       "<style scoped>\n",
       "    .dataframe tbody tr th:only-of-type {\n",
       "        vertical-align: middle;\n",
       "    }\n",
       "\n",
       "    .dataframe tbody tr th {\n",
       "        vertical-align: top;\n",
       "    }\n",
       "\n",
       "    .dataframe thead th {\n",
       "        text-align: right;\n",
       "    }\n",
       "</style>\n",
       "<table border=\"1\" class=\"dataframe\">\n",
       "  <thead>\n",
       "    <tr style=\"text-align: right;\">\n",
       "      <th></th>\n",
       "      <th>Id</th>\n",
       "      <th>Title</th>\n",
       "      <th>Company</th>\n",
       "      <th>Date</th>\n",
       "      <th>Location</th>\n",
       "      <th>Area</th>\n",
       "      <th>Classification</th>\n",
       "      <th>SubClassification</th>\n",
       "      <th>Requirement</th>\n",
       "      <th>FullDescription</th>\n",
       "      <th>LowestSalary</th>\n",
       "      <th>HighestSalary</th>\n",
       "      <th>JobType</th>\n",
       "      <th>AverageSalary</th>\n",
       "    </tr>\n",
       "  </thead>\n",
       "  <tbody>\n",
       "    <tr>\n",
       "      <th>219272</th>\n",
       "      <td>37939515</td>\n",
       "      <td>Network Engineer</td>\n",
       "      <td>Sonic Human Resourcing Pty Ltd</td>\n",
       "      <td>2018-12-16</td>\n",
       "      <td>NaN</td>\n",
       "      <td>NaN</td>\n",
       "      <td>NaN</td>\n",
       "      <td>NaN</td>\n",
       "      <td>We seek a Network Engineer to provide backfill...</td>\n",
       "      <td>&lt;p&gt;Our client is seeking a Network Engineer to...</td>\n",
       "      <td>150</td>\n",
       "      <td>200</td>\n",
       "      <td>Contract/Temp</td>\n",
       "      <td>175.0</td>\n",
       "    </tr>\n",
       "  </tbody>\n",
       "</table>\n",
       "</div>"
      ],
      "text/plain": [
       "              Id             Title                         Company       Date   \n",
       "219272  37939515  Network Engineer  Sonic Human Resourcing Pty Ltd 2018-12-16  \\\n",
       "\n",
       "       Location Area Classification SubClassification   \n",
       "219272      NaN  NaN            NaN               NaN  \\\n",
       "\n",
       "                                              Requirement   \n",
       "219272  We seek a Network Engineer to provide backfill...  \\\n",
       "\n",
       "                                          FullDescription  LowestSalary   \n",
       "219272  <p>Our client is seeking a Network Engineer to...           150  \\\n",
       "\n",
       "        HighestSalary        JobType  AverageSalary  \n",
       "219272            200  Contract/Temp          175.0  "
      ]
     },
     "execution_count": 24,
     "metadata": {},
     "output_type": "execute_result"
    }
   ],
   "source": [
    "# Start date\n",
    "df_null_data.sort_values('Date').head(1)"
   ]
  },
  {
   "cell_type": "code",
   "execution_count": 25,
   "metadata": {},
   "outputs": [
    {
     "data": {
      "text/html": [
       "<div>\n",
       "<style scoped>\n",
       "    .dataframe tbody tr th:only-of-type {\n",
       "        vertical-align: middle;\n",
       "    }\n",
       "\n",
       "    .dataframe tbody tr th {\n",
       "        vertical-align: top;\n",
       "    }\n",
       "\n",
       "    .dataframe thead th {\n",
       "        text-align: right;\n",
       "    }\n",
       "</style>\n",
       "<table border=\"1\" class=\"dataframe\">\n",
       "  <thead>\n",
       "    <tr style=\"text-align: right;\">\n",
       "      <th></th>\n",
       "      <th>Id</th>\n",
       "      <th>Title</th>\n",
       "      <th>Company</th>\n",
       "      <th>Date</th>\n",
       "      <th>Location</th>\n",
       "      <th>Area</th>\n",
       "      <th>Classification</th>\n",
       "      <th>SubClassification</th>\n",
       "      <th>Requirement</th>\n",
       "      <th>FullDescription</th>\n",
       "      <th>LowestSalary</th>\n",
       "      <th>HighestSalary</th>\n",
       "      <th>JobType</th>\n",
       "      <th>AverageSalary</th>\n",
       "    </tr>\n",
       "  </thead>\n",
       "  <tbody>\n",
       "    <tr>\n",
       "      <th>318476</th>\n",
       "      <td>38561751</td>\n",
       "      <td>Head of Operations - EOI</td>\n",
       "      <td>Austcorp Executive</td>\n",
       "      <td>2019-03-13</td>\n",
       "      <td>NaN</td>\n",
       "      <td>NaN</td>\n",
       "      <td>NaN</td>\n",
       "      <td>NaN</td>\n",
       "      <td>Expressions of interest for a leadership role</td>\n",
       "      <td>NaN</td>\n",
       "      <td>200</td>\n",
       "      <td>999</td>\n",
       "      <td>NaN</td>\n",
       "      <td>599.5</td>\n",
       "    </tr>\n",
       "  </tbody>\n",
       "</table>\n",
       "</div>"
      ],
      "text/plain": [
       "              Id                     Title             Company       Date   \n",
       "318476  38561751  Head of Operations - EOI  Austcorp Executive 2019-03-13  \\\n",
       "\n",
       "       Location Area Classification SubClassification   \n",
       "318476      NaN  NaN            NaN               NaN  \\\n",
       "\n",
       "                                          Requirement FullDescription   \n",
       "318476  Expressions of interest for a leadership role             NaN  \\\n",
       "\n",
       "        LowestSalary  HighestSalary JobType  AverageSalary  \n",
       "318476           200            999     NaN          599.5  "
      ]
     },
     "execution_count": 25,
     "metadata": {},
     "output_type": "execute_result"
    }
   ],
   "source": [
    "# End date\n",
    "df_null_data.sort_values('Date').tail(1)"
   ]
  },
  {
   "cell_type": "markdown",
   "metadata": {},
   "source": [
    "The above investigation shows that all job listings posted from the **16th of December 2018** to the **13th of March 2019** inclusive, are missing **Classification**, **SubClassification** and **Location** attribute data. "
   ]
  },
  {
   "cell_type": "markdown",
   "metadata": {},
   "source": [
    "### Save the cleaned and preprocessed dataset"
   ]
  },
  {
   "cell_type": "code",
   "execution_count": 26,
   "metadata": {},
   "outputs": [],
   "source": [
    "df.to_csv(\"preprocessed_data.csv\")"
   ]
  },
  {
   "cell_type": "markdown",
   "metadata": {},
   "source": [
    "# Data Preparation and Preprocessing Summary\n",
    "The data that was given in .csv format was loaded into a DataFrame using the **read_csv()** method from the **pandas** library.\n",
    "### Cleaning the data\n",
    "- Used regex to clean the \"Date\" & \"Id\" column before converting the data type of \"Date\" attribute from **object** to **datetime64[ns]** and \"Id\" attribute **object** to **int64**\n",
    "- All other attributes have the correct data types:  \n",
    "    - **LowestSalary** and **HighestSalary** are **int64**\n",
    "    - **AverageSalary** are **float64**\n",
    "    - All other attributes are **objects**\n",
    "### Duplicated data\n",
    "- **8607** duplicate job listings were removed form the dataset. We know that these weren't just repeated job postings because the \"Date\" attribute was include when looking at duplicate entries. \n",
    "- There an additional **6724** duplicate job listings without considering the \"Date\" attribute, this most likely represents job listings that weren't filled and were reposted after some time. These additional duplicates were not removed from the dataset, because these job listings still had useful contextual information.\n",
    "### Missing data\n",
    "- The most notable attribute is that **Area** has the highest missing data at **61.50%** It is suspected that only job listings with a **Location** based in the larger cities; **Sydney**, **Brisbane**, **Melbourne** and **Perth** use the **Area** attribute to be more specific regarding the location of the job. This also leads to the early observation that those cities make up at least **38.50%** of the dataset.\n",
    "- The second observation regarding missing data was that the **Location**, **Classification** and **SubClassification** attribute all shared the same amount of missing data of **38.08%**. After some investigation it was found that all job listings between the **16th of December 2018** to the **13th of March 2019** inclusive, were missing **Classification**, **SubClassification** and **Location** attribute data. Job listings outside the date range were checked for missing data, but nothing of interest was found. Precautions must be taken before drawing conclusions from data related to **Location**, **Classification** and **SubClassification** attributes.\n",
    "# Hypothesis\n",
    "- We expect the large majority of job listings to be located in the larger cities; **Sydney**, **Brisbane**, **Melbourne** and **Perth**. With a focus on the eastern coast since that is the more densely populated parts of Australia\n",
    "- Because the larger cities hold a greater share of the job listings, it should be expected that the average salary would also be higher in these cities compared to remote locations. \n",
    "- The most popular job listings expected would be Information & Communication Technology, due to the increase in demand and use of technology. \n",
    "- The expected highest average salary would be CEO & General Management, but this could be considered an outlier due to the large gap expected between this classification and the rest. The popularity of Information & Communication Technology would also have a competitive aspect to average salary, driving it up."
   ]
  }
 ],
 "metadata": {
  "kernelspec": {
   "display_name": "Python 3 (ipykernel)",
   "language": "python",
   "name": "python3"
  },
  "language_info": {
   "codemirror_mode": {
    "name": "ipython",
    "version": 3
   },
   "file_extension": ".py",
   "mimetype": "text/x-python",
   "name": "python",
   "nbconvert_exporter": "python",
   "pygments_lexer": "ipython3",
   "version": "3.10.9"
  }
 },
 "nbformat": 4,
 "nbformat_minor": 2
}
