version https://git-lfs.github.com/spec/v1
oid sha256:e8e1b4ca0ec3da4a0d20f65c38b6ae2cc93bb1704108a2621d9cbd54f3abe235
size 64974368
