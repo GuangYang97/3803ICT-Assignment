{
 "cells": [
  {
   "cell_type": "markdown",
   "metadata": {},
   "source": [
    "# Part 3 - Evaluation\n",
    "### Hypothesis Recap\n",
    "- We expected the large majority of job listings to be located in the larger cities; **Sydney**, **Brisbane**, **Melbourne** and **Perth**. With a focus on the eastern coast since that is the more densely populated parts of Australia\n",
    "- Because the larger cities hold a greater share of the job listings, it should be expected that the average salary would also be higher in these cities compared to remote locations. \n",
    "- The most popular job listings expected would be Information & Communication Technology, due to the increase in demand and use of technology. \n",
    "- The expected highest average salary would be CEO & General Management, but this could be considered an outlier due to the large gap expected between this classification and the rest. The popularity of Information & Communication Technology would also have a competitive aspect to average salary, driving it up.\n",
    "### Findings\n",
    "- Our analyses in Part 2 showed that, as hypothesized, the top 5 cities in terms of market size were:\n",
    "    1. Sydney\n",
    "    2. Melbourne \n",
    "    3. Brisbane \n",
    "    4. Perth \n",
    "    5. Adelaide\n",
    "- This coincides with our assumption that higher populations cities would have a larger market share of job listings. According to the Australian Bureau of Statistics (ABS), the top five Australian capital cities in terms of Estimated Resident Population (ERP) at 30th June 2022 were: \n",
    "    1. Sydney\n",
    "    2. Melbourne \n",
    "    3. Brisbane \n",
    "    4. Perth \n",
    "    5. Adelaide\n",
    "- This is also supported by the fact that more regional cities such as Darwin and Hobart had some of the smallest market share of job listings.\n",
    "- The \"Salary Distribution in Top Biggest Cities\" figure shows that the market size of a location is proportional to how competitive the salaries are. For salaries ~150,000 and upwards Sydney had almost 50% of all available salaries.\n",
    "- The \"Top 10 Classifications by Market Share\" figure shows that \"Information & Communication Technology\" is in fact the most popular job listing classification. Another interesting insight that we can gather from this is that \"Trades & Services\" is the second most popular job listing, this means that there are many opportunities for those that don't wish to pursue higher education.\n",
    "- As expected according to the \"Salary Range Comparison Between Classifications\" figure, CEO & General Management has the highest average salary with the median CEO & General Management salary being higher than all other classifications' max salaries, disregarding outliers.\n",
    "- \"Information & Communication Technology\" has the second-highest median salary which supports the hypothesis that more job listings promotes more competitive salaries.\n",
    "### Actions for balancing the markets\n",
    "Some general actions that can be taken include:\n",
    "- **Infrastructure Development:** Making it easier and more attractive for people to set up/conduct business in the rural parts of Australia.  \n",
    "- **Investment Incentives:** Providing financial incentives such as subsidization or grants for business that operate in rural parts of Australia should promote more job opportunities.\n",
    "Actions more specific to findings include:\n",
    "- **Technology and Innovation Hubs:** Creating hubs can promote startups, tech companies and research institutions to move towards rural Australia.\n",
    "- **Skills Development and Training:** Because \"Information & Communication Technology\" takes up such a large portion of the job market it may be a good idea to introduce ICT skills earlier during primary/high school education, as a part of the core curriculum, so that the next generation of workers are equipt with basic ICT related skills that they could then share with other Job Classifications as they move into the workforce. Leading to all Job Classifications benefiting from the explosive growth of the ICT job market.\n",
    "### Actions for refining data analytics\n",
    "- **Introducing more data:** Our analyses could have been improved by including more sources of data from other popular job listing sites such as:\n",
    "    - LinkedIn\n",
    "    - GumTree\n",
    "    - CareerOne\n",
    "Although care must be taken to ensure that data taken from each site is normalized and scaled, to ensure that analyses doesn't skew towards one particular data source.\n",
    "- **Including more contextual data:** Including data that is closely related to our dataset could be beneficial for analyses. For example when analyzing Job Location it could be helpful to have population statistics when comparing the number of Job Listings vs Job Location. These statistics could be gathered from sources like Australian Bureau of Statistics (ABS).\n",
    "### Implications for employers and employees\n",
    "- By analyzing the Average Salary of their Job Classification of interest, employers should be able to make more informed and competitive job offers. While employees can look for jobs that offer higher than average salaries.\n",
    "- For the future generation of employees that are job orientated it may be better/easier to make informed decisions when picking an industry to work in that is showing more growth/job listings.\n",
    "- Also, by analyzing the job listings by Location it may be advantageous for an employee to move towards areas that have more job opportunities and more competitive salaries, to maximize their chances of getting a \"good\" job.\n",
    "- For employers, it would currently be best to avoid basing their operations in rural parts of Australia as it has shown that it is much harder to fill a job listing due to lower average salaries and more opportunities in the larger cities.\n",
    "    "
   ]
  }
 ],
 "metadata": {
  "kernelspec": {
   "display_name": "Python 3 (ipykernel)",
   "language": "python",
   "name": "python3"
  },
  "language_info": {
   "codemirror_mode": {
    "name": "ipython",
    "version": 3
   },
   "file_extension": ".py",
   "mimetype": "text/x-python",
   "name": "python",
   "nbconvert_exporter": "python",
   "pygments_lexer": "ipython3",
   "version": "3.10.9"
  }
 },
 "nbformat": 4,
 "nbformat_minor": 2
}
