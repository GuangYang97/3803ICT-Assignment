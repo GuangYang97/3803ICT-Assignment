version https://git-lfs.github.com/spec/v1
oid sha256:57a1684074d365c0051d8b66cfa5661d8b26cfad97179d2e05ee2e6a3fa8f95c
size 3174462
