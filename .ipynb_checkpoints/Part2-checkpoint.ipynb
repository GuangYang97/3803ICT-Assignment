version https://git-lfs.github.com/spec/v1
oid sha256:87ddd3260c558f62bfa9884ea96c537a575c6e9de846d9807e7f46311fb9230a
size 64974196
