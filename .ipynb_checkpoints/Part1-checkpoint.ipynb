version https://git-lfs.github.com/spec/v1
oid sha256:fb790f8a20152e5f47f66702d62bf6d68294d70e2964e05c4ca1685d5b7f5fbd
size 28014
